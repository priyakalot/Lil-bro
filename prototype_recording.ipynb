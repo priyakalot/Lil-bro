{
 "cells": [
  {
   "cell_type": "code",
   "execution_count": 1,
   "metadata": {},
   "outputs": [],
   "source": [
    "import speech_recognition as sr"
   ]
  },
  {
   "cell_type": "code",
   "execution_count": 2,
   "metadata": {},
   "outputs": [
    {
     "name": "stdout",
     "output_type": "stream",
     "text": [
      "Microphone with name \"Microsoft Sound Mapper - Input\" found for `Microphone(device_index=0)`\n",
      "Microphone with name \"Microphone (Realtek High Defini\" found for `Microphone(device_index=1)`\n",
      "Microphone with name \"Headset (Bose QC35 II Hands-Fre\" found for `Microphone(device_index=2)`\n",
      "Microphone with name \"Microsoft Sound Mapper - Output\" found for `Microphone(device_index=3)`\n",
      "Microphone with name \"Headphones (Bose QC35 II Stereo\" found for `Microphone(device_index=4)`\n",
      "Microphone with name \"Speakers (Realtek High Definiti\" found for `Microphone(device_index=5)`\n",
      "Microphone with name \"Headset (Bose QC35 II Hands-Fre\" found for `Microphone(device_index=6)`\n",
      "Microphone with name \"Stereo Mix (Realtek HD Audio Stereo input)\" found for `Microphone(device_index=7)`\n",
      "Microphone with name \"Speakers (Realtek HD Audio output)\" found for `Microphone(device_index=8)`\n",
      "Microphone with name \"Microphone (Realtek HD Audio Mic input)\" found for `Microphone(device_index=9)`\n",
      "Microphone with name \"Headphones ()\" found for `Microphone(device_index=10)`\n",
      "Microphone with name \"Headset Earphone (@System32\\drivers\\bthhfenum.sys,#2;%1 Hands-Free%0\r\n",
      ";(SRS-XB21))\" found for `Microphone(device_index=11)`\n",
      "Microphone with name \"Headset Microphone (@System32\\drivers\\bthhfenum.sys,#2;%1 Hands-Free%0\r\n",
      ";(SRS-XB21))\" found for `Microphone(device_index=12)`\n",
      "Microphone with name \"Speakers ()\" found for `Microphone(device_index=13)`\n",
      "Microphone with name \"Headset (@System32\\drivers\\bthhfenum.sys,#2;%1 Hands-Free%0\r\n",
      ";(Bose QC35 II))\" found for `Microphone(device_index=14)`\n",
      "Microphone with name \"Headset (@System32\\drivers\\bthhfenum.sys,#2;%1 Hands-Free%0\r\n",
      ";(Bose QC35 II))\" found for `Microphone(device_index=15)`\n",
      "Microphone with name \"Headphones ()\" found for `Microphone(device_index=16)`\n",
      "Microphone with name \"Headset Earphone (@System32\\drivers\\bthhfenum.sys,#2;%1 Hands-Free%0\r\n",
      ";(Philips SHB8850NC))\" found for `Microphone(device_index=17)`\n",
      "Microphone with name \"Headset Microphone (@System32\\drivers\\bthhfenum.sys,#2;%1 Hands-Free%0\r\n",
      ";(Philips SHB8850NC))\" found for `Microphone(device_index=18)`\n",
      "Microphone with name \"Speakers ()\" found for `Microphone(device_index=19)`\n"
     ]
    }
   ],
   "source": [
    "# to identify which microphone to use! \n",
    "for index, name in enumerate(sr.Microphone.list_microphone_names()):\n",
    "    print(\"Microphone with name \\\"{1}\\\" found for `Microphone(device_index={0})`\".format(index, name))"
   ]
  },
  {
   "cell_type": "code",
   "execution_count": 3,
   "metadata": {},
   "outputs": [
    {
     "data": {
      "text/plain": [
       "<speech_recognition.Microphone at 0x2817689b7b8>"
      ]
     },
     "execution_count": 3,
     "metadata": {},
     "output_type": "execute_result"
    }
   ],
   "source": [
    "# pick index according to microphone\n",
    "sr.Microphone(device_index=1)"
   ]
  },
  {
   "cell_type": "code",
   "execution_count": null,
   "metadata": {},
   "outputs": [],
   "source": [
    "#ignore\n",
    "#r.adjust_for_ambient_noise(source, duration=5)  "
   ]
  },
  {
   "cell_type": "code",
   "execution_count": 4,
   "metadata": {},
   "outputs": [
    {
     "name": "stdout",
     "output_type": "stream",
     "text": [
      "Calibrating micro for 5 sec!\n",
      "Calibration done!\n",
      "Say something!\n",
      "Google Speech Recognition thinks you said this yes no maybe this he is no maybe it focused yes no maybe in for her\n"
     ]
    }
   ],
   "source": [
    "\n",
    "#initiate recognizer wrapper\n",
    "r = sr.Recognizer()\n",
    "\n",
    "with sr.Microphone() as source:\n",
    "    print(\"Calibrating micro for 5 sec!\")\n",
    "    #calibrate micro duration can be altered\n",
    "    r.adjust_for_ambient_noise(source, duration=5)\n",
    "    print(\"Calibration done!\")\n",
    "    #open audio stream\n",
    "    audio = r.listen(source)\n",
    "    print(\"Say something!\")\n",
    "    \n",
    "# recognize speech using Google Speech Recognition\n",
    "try:\n",
    "    # we can use r.recognize_google(audio) or any other recognizer, but offline only pocketsphinx\n",
    "    print(\"I think you said:     \" + r.recognize_sphinx(audio))\n",
    "except sr.UnknownValueError:\n",
    "    print(\"Recognition could not understand audio\")\n",
    "except sr.RequestError as e:\n",
    "    print(\"Could not request results due to error service; {0}\".format(e))"
   ]
  },
  {
   "cell_type": "code",
   "execution_count": 10,
   "metadata": {},
   "outputs": [
    {
     "name": "stdout",
     "output_type": "stream",
     "text": [
      "added\n",
      "but\n",
      "but\n",
      "but keep the\n"
     ]
    },
    {
     "name": "stderr",
     "output_type": "stream",
     "text": [
      "C:\\Users\\gsotos\\AppData\\Local\\Continuum\\anaconda3\\lib\\site-packages\\ipykernel_launcher.py:2: DeprecationWarning: generator 'LiveSpeech.__iter__' raised StopIteration\n",
      "  \n"
     ]
    }
   ],
   "source": [
    "# vanilla pocketsphinx, without speechrecognition wrapper\n",
    "#without ambient fix, pretty crappy!\n",
    "#from pocketsphinx import LiveSpeech\n",
    "#for phrase in LiveSpeech(): print(phrase)"
   ]
  },
  {
   "cell_type": "code",
   "execution_count": null,
   "metadata": {},
   "outputs": [],
   "source": []
  },
  {
   "cell_type": "code",
   "execution_count": null,
   "metadata": {},
   "outputs": [],
   "source": []
  },
  {
   "cell_type": "code",
   "execution_count": null,
   "metadata": {},
   "outputs": [],
   "source": []
  }
 ],
 "metadata": {
  "kernelspec": {
   "display_name": "Python 3",
   "language": "python",
   "name": "python3"
  },
  "language_info": {
   "codemirror_mode": {
    "name": "ipython",
    "version": 3
   },
   "file_extension": ".py",
   "mimetype": "text/x-python",
   "name": "python",
   "nbconvert_exporter": "python",
   "pygments_lexer": "ipython3",
   "version": "3.6.5"
  }
 },
 "nbformat": 4,
 "nbformat_minor": 2
}
